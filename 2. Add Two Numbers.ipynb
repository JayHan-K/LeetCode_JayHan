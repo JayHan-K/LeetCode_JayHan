{
 "cells": [
  {
   "cell_type": "code",
   "execution_count": 61,
   "metadata": {},
   "outputs": [
    {
     "name": "stdout",
     "output_type": "stream",
     "text": [
      "<class 'str'>\n",
      "465\n",
      "6\n",
      "6\n",
      "4\n",
      "0\n",
      "0\n",
      "0\n",
      "0\n",
      "0\n",
      "0\n",
      "0\n",
      "0\n",
      "0\n",
      "0\n",
      "0\n",
      "0\n",
      "0\n",
      "0\n",
      "0\n",
      "0\n",
      "0\n",
      "0\n",
      "0\n",
      "0\n",
      "0\n",
      "0\n",
      "0\n",
      "0\n",
      "0\n",
      "0\n",
      "0\n",
      "1\n"
     ]
    }
   ],
   "source": [
    "class ListNode:\n",
    "    def __init__(self, val=0, next=None):\n",
    "        self.val = val\n",
    "        self.next = next\n",
    "        \n",
    "    def printNode(root):\n",
    "        while True:\n",
    "            if root is not None:\n",
    "                print(root.val)\n",
    "                if root.next is not None:\n",
    "                    root = root.next\n",
    "                else:\n",
    "                    return\n",
    "    def insertNode(nums):\n",
    "        root = None\n",
    "        for i in nums:\n",
    "            node = ListNode(i, None)\n",
    "            if root == None:\n",
    "                root = node\n",
    "            else:\n",
    "                temp = root\n",
    "                while True:\n",
    "                    if temp.next is None:\n",
    "                        temp.next = node\n",
    "                        break\n",
    "                    else:\n",
    "                        temp = temp.next\n",
    "        return root\n",
    "class Solution:\n",
    "    def addTwoNumbers(self, l1, l2):\n",
    "        a=str(l1.val); b= str(l2.val)\n",
    "        next= l1.next\n",
    "        while next:\n",
    "          a=str(next.val)+a\n",
    "          next= next.next\n",
    "        next= l2.next\n",
    "        while next:\n",
    "          b= str(next.val)+b\n",
    "          next= next.next\n",
    "\n",
    "        c= str(int(a)+int(b))\n",
    "        i= len(c)-1\n",
    "        l3= ListNode(int(c[i]))\n",
    "        next= l3\n",
    "        while i:          \n",
    "          i-=1\n",
    "          ch= int(c[i])\n",
    "          if next != None:\n",
    "            next.next= ListNode(ch)          \n",
    "            next= next.next\n",
    "        return l3\n",
    "\n",
    "l1 = [1,0,0,0,0,0,0,0,0,0,0,0,0,0,0,0,0,0,0,0,0,0,0,0,0,0,0,0,0,0,1]\n",
    "l11 = ListNode.insertNode(l1)\n",
    "l2 = [5, 6, 4]\n",
    "l22 = ListNode.insertNode(l2)\n",
    "\n",
    "answer = Solution.addTwoNumbers(None, l11, l22)\n",
    "ListNode.printNode(answer)"
   ]
  },
  {
   "cell_type": "code",
   "execution_count": 59,
   "metadata": {},
   "outputs": [
    {
     "data": {
      "text/plain": [
       "1000000000.0"
      ]
     },
     "execution_count": 59,
     "metadata": {},
     "output_type": "execute_result"
    }
   ],
   "source": [
    "10000000000/10"
   ]
  },
  {
   "cell_type": "code",
   "execution_count": 16,
   "metadata": {},
   "outputs": [
    {
     "data": {
      "text/plain": [
       "80.7"
      ]
     },
     "execution_count": 16,
     "metadata": {},
     "output_type": "execute_result"
    }
   ],
   "source": [
    "807 / 10"
   ]
  },
  {
   "cell_type": "code",
   "execution_count": null,
   "metadata": {},
   "outputs": [],
   "source": []
  }
 ],
 "metadata": {
  "kernelspec": {
   "display_name": "Python 3",
   "language": "python",
   "name": "python3"
  },
  "language_info": {
   "codemirror_mode": {
    "name": "ipython",
    "version": 3
   },
   "file_extension": ".py",
   "mimetype": "text/x-python",
   "name": "python",
   "nbconvert_exporter": "python",
   "pygments_lexer": "ipython3",
   "version": "3.7.3"
  }
 },
 "nbformat": 4,
 "nbformat_minor": 2
}
